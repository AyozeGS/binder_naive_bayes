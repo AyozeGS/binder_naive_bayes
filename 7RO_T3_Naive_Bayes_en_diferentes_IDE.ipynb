{
  "nbformat": 4,
  "nbformat_minor": 0,
  "metadata": {
    "colab": {
      "provenance": []
    },
    "kernelspec": {
      "name": "python3",
      "display_name": "Python 3"
    },
    "language_info": {
      "name": "python"
    }
  },
  "cells": [
    {
      "cell_type": "code",
      "execution_count": null,
      "metadata": {
        "id": "eYoJhINDedaM"
      },
      "outputs": [],
      "source": [
        "# Instalar e importar librerías necesarias\n",
        "# No es necesario instalar librerías específicas en Python como en R\n",
        "import pandas as pd\n",
        "from sklearn.model_selection import train_test_split\n",
        "from sklearn.preprocessing import LabelEncoder\n",
        "from sklearn.naive_bayes import MultinomialNB\n",
        "from sklearn.metrics import confusion_matrix, roc_curve, auc, precision_recall_curve\n",
        "import matplotlib.pyplot as plt"
      ]
    },
    {
      "cell_type": "code",
      "source": [
        "###########################\n",
        "# 1. Preparacion de datos #\n",
        "###########################\n",
        "\n",
        "# Al poner header= None se crea la primera fila con los nombres de las columnas V1, V2, ...\n",
        "vote_data = pd.read_csv(\"house-votes-84.data\", header=None, names=[\"NAME\",\"V1\",\"V2\",\"V3\",\"V4\",\"V5\",\"V6\",\"V7\",\"V8\",\"V9\",\"V10\",\"V11\",\"V12\",\"V13\",\"V14\",\"V15\",\"V16\"], na_values=\"?\")\n",
        "\n",
        "# Observamos el formato del dataset\n",
        "print(vote_data.head())\n",
        "print(vote_data.tail())\n",
        "\n",
        "# Eliminamos los NaN por datos vacíos\n",
        "vote_data = vote_data.dropna()\n",
        "\n",
        "# Hacemos que la columna NAME sea factor (variable categórica, con valores democrat o republican)\n",
        "vote_data[\"NAME\"] = vote_data[\"NAME\"].astype(\"category\")\n",
        "\n",
        "# Veamos cuántas instancias tenemos de cada clase\n",
        "print(vote_data[\"NAME\"].value_counts(normalize=True))"
      ],
      "metadata": {
        "colab": {
          "base_uri": "https://localhost:8080/"
        },
        "id": "eyPG6CCEjKmP",
        "outputId": "61f084df-1845-4d8c-9a59-87e7508ab85e"
      },
      "execution_count": null,
      "outputs": [
        {
          "output_type": "stream",
          "name": "stdout",
          "text": [
            "         NAME   V1 V2 V3   V4   V5 V6 V7 V8 V9 V10  V11  V12 V13 V14 V15  V16\n",
            "0  republican    n  y  n    y    y  y  n  n  n   y  NaN    y   y   y   n    y\n",
            "1  republican    n  y  n    y    y  y  n  n  n   n    n    y   y   y   n  NaN\n",
            "2    democrat  NaN  y  y  NaN    y  y  n  n  n   n    y    n   y   y   n    n\n",
            "3    democrat    n  y  y    n  NaN  y  n  n  n   n    y    n   y   n   n    y\n",
            "4    democrat    y  y  y    n    y  y  n  n  n   n    y  NaN   y   y   y    y\n",
            "           NAME V1   V2 V3 V4 V5 V6   V7   V8   V9  V10 V11 V12 V13 V14  V15  \\\n",
            "430  republican  n    n  y  y  y  y    n    n    y    y   n   y   y   y    n   \n",
            "431    democrat  n    n  y  n  n  n    y    y    y    y   n   n   n   n    n   \n",
            "432  republican  n  NaN  n  y  y  y    n    n    n    n   y   y   y   y    n   \n",
            "433  republican  n    n  n  y  y  y  NaN  NaN  NaN  NaN   n   y   y   y    n   \n",
            "434  republican  n    y  n  y  y  y    n    n    n    y   n   y   y   y  NaN   \n",
            "\n",
            "    V16  \n",
            "430   y  \n",
            "431   y  \n",
            "432   y  \n",
            "433   y  \n",
            "434   n  \n",
            "democrat      0.534483\n",
            "republican    0.465517\n",
            "Name: NAME, dtype: float64\n"
          ]
        }
      ]
    },
    {
      "cell_type": "code",
      "source": [
        "##############################################\n",
        "# 2. Creacion de datos de entrenamiento/test #\n",
        "##############################################\n",
        "\n",
        "vote_raw_train, vote_raw_test = train_test_split(vote_data, test_size=65, random_state=42, stratify=vote_data[\"NAME\"])\n",
        "\n",
        "# Observamos que se mantienen las proporciones\n",
        "print(vote_raw_train[\"NAME\"].value_counts(normalize=True))\n",
        "print(vote_raw_test[\"NAME\"].value_counts(normalize=True))\n"
      ],
      "metadata": {
        "colab": {
          "base_uri": "https://localhost:8080/"
        },
        "id": "zspGIogLjinv",
        "outputId": "2cc5a265-db23-43f2-cdd3-2db07ff3659b"
      },
      "execution_count": null,
      "outputs": [
        {
          "output_type": "stream",
          "name": "stdout",
          "text": [
            "democrat      0.532934\n",
            "republican    0.467066\n",
            "Name: NAME, dtype: float64\n",
            "democrat      0.538462\n",
            "republican    0.461538\n",
            "Name: NAME, dtype: float64\n"
          ]
        }
      ]
    },
    {
      "cell_type": "code",
      "source": [
        "##########################################\n",
        "# 3. Creacion de features para el modelo #\n",
        "##########################################\n",
        "\n",
        "# Convertir las variables categóricas \"y\" y \"n\" en valores numéricos\n",
        "label_encoder = LabelEncoder()\n",
        "for col in vote_raw_train.columns[1:]:\n",
        "    vote_raw_train[col] = label_encoder.fit_transform(vote_raw_train[col])\n",
        "    vote_raw_test[col] = label_encoder.transform(vote_raw_test[col])\n",
        "\n",
        "\n",
        "# Vote_raw_train y vote_raw_test son data frames de variables categóricas.\n",
        "# Ambos son una estructura que puede ser utilizada como argumento por el clasificador NB\n",
        "# Entrenamos un clasificador NB.\n",
        "# El modelo utiliza la presencia \"yes\" o ausencia \"no\" de uno de los 16 restantes atributos\n",
        "# para estimar la probabilidad de que un votante sea demócrata o republicano.\n",
        "# alpha=1 para los datos desconocidos\n",
        "vote_classifier = MultinomialNB(alpha=1)\n",
        "vote_classifier.fit(vote_raw_train.iloc[:, 1:], vote_raw_train[\"NAME\"])\n",
        "\n",
        "# Predecimos la clase más probable\n",
        "vote_test_pred = vote_classifier.predict(vote_raw_test.iloc[:, 1:])"
      ],
      "metadata": {
        "id": "tcn_H3rLju8P"
      },
      "execution_count": null,
      "outputs": []
    },
    {
      "cell_type": "code",
      "source": [
        "# Matriz de confusión\n",
        "conf_matrix = confusion_matrix(vote_raw_test[\"NAME\"], vote_test_pred)\n",
        "print(conf_matrix)\n",
        "print(conf_matrix / conf_matrix.sum(axis=1)[:, None])"
      ],
      "metadata": {
        "colab": {
          "base_uri": "https://localhost:8080/"
        },
        "id": "-kUQuPl6pnFt",
        "outputId": "04e69d5b-886f-45aa-a262-57b90a4dcb17"
      },
      "execution_count": null,
      "outputs": [
        {
          "output_type": "stream",
          "name": "stdout",
          "text": [
            "[[28  7]\n",
            " [ 1 29]]\n",
            "[[0.8        0.2       ]\n",
            " [0.03333333 0.96666667]]\n"
          ]
        }
      ]
    },
    {
      "cell_type": "code",
      "source": [
        "# Predicciones donde se ha equivocado el modelo\n",
        "misclassifications = vote_raw_test[vote_raw_test[\"NAME\"] != vote_test_pred]\n",
        "print(misclassifications)"
      ],
      "metadata": {
        "colab": {
          "base_uri": "https://localhost:8080/"
        },
        "id": "ueoqxhgHpnLb",
        "outputId": "f420cd1e-a41c-49b2-c7de-7f046dc5edb9"
      },
      "execution_count": null,
      "outputs": [
        {
          "output_type": "stream",
          "name": "stdout",
          "text": [
            "           NAME  V1  V2  V3  V4  V5  V6  V7  V8  V9  V10  V11  V12  V13  V14  \\\n",
            "385    democrat   1   1   0   0   1   1   0   0   0    0    1    1    1    1   \n",
            "365    democrat   0   1   0   0   1   1   0   0   0    1    1    0    1    1   \n",
            "406    democrat   1   0   1   0   1   1   0   0   1    1    0    0    1    1   \n",
            "78     democrat   1   1   1   0   1   1   0   0   0    1    1    0    1    1   \n",
            "85     democrat   0   0   1   0   1   1   0   0   0    1    1    1    1    1   \n",
            "100    democrat   1   0   0   0   1   1   0   0   0    0    1    1    0    1   \n",
            "375    democrat   0   1   0   1   1   1   0   0   0    0    1    1    0    1   \n",
            "176  republican   0   0   1   1   0   0   1   1   1    1    0    0    0    1   \n",
            "\n",
            "     V15  V16  \n",
            "385    1    0  \n",
            "365    0    0  \n",
            "406    0    1  \n",
            "78     0    1  \n",
            "85     0    1  \n",
            "100    0    1  \n",
            "375    0    0  \n",
            "176    1    1  \n"
          ]
        }
      ]
    },
    {
      "cell_type": "code",
      "source": [
        "# Predecimos con probabilidades\n",
        "vote_test_pred_proba = vote_classifier.predict_proba(vote_raw_test.iloc[:, 1:])\n",
        "\n",
        "# Crear subgráficos\n",
        "plt.figure(figsize=(15, 5))\n",
        "\n",
        "# Subplot 1: Curva ROC\n",
        "plt.subplot(1, 3, 1)\n",
        "fpr, tpr, _ = roc_curve((vote_raw_test[\"NAME\"] == \"republican\").astype(int), vote_test_pred_proba[:, 1])\n",
        "plt.plot(fpr, tpr)\n",
        "plt.xlabel('False Positive Rate')\n",
        "plt.ylabel('True Positive Rate')\n",
        "plt.title('Curva ROC')\n",
        "\n",
        "# Subplot 2: Curva Precision-Recall\n",
        "plt.subplot(1, 3, 2)\n",
        "precision, recall, _ = precision_recall_curve((vote_raw_test[\"NAME\"] == \"republican\").astype(int), vote_test_pred_proba[:, 1])\n",
        "plt.plot(recall, precision)\n",
        "plt.xlabel('Recall')\n",
        "plt.ylabel('Precision')\n",
        "plt.title('Curva Precision-Recall')\n",
        "\n",
        "# Subplot 3: Curva Sensitivity-Specificity\n",
        "plt.subplot(1, 3, 3)\n",
        "sensitivity = tpr\n",
        "specificity = 1 - fpr\n",
        "plt.plot(specificity, sensitivity)\n",
        "plt.xlabel('Specificity')\n",
        "plt.ylabel('Sensitivity')\n",
        "plt.title('Curva Sensitivity-Specificity')\n",
        "\n",
        "# Mostrar los subgráficos\n",
        "plt.tight_layout()\n",
        "plt.show()"
      ],
      "metadata": {
        "colab": {
          "base_uri": "https://localhost:8080/",
          "height": 507
        },
        "id": "RDZxs77sp2Jb",
        "outputId": "654d86fc-6071-4ca3-9403-cd765c0a8b4b"
      },
      "execution_count": null,
      "outputs": [
        {
          "output_type": "display_data",
          "data": {
            "text/plain": [
              "<Figure size 1500x500 with 3 Axes>"
            ],
            "image/png": "[encoded data removed]"
          },
          "metadata": {}
        }
      ]
    },
    {
      "cell_type": "code",
      "source": [
        "# AUC\n",
        "roc_auc = auc(fpr, tpr)\n",
        "print(roc_auc)"
      ],
      "metadata": {
        "colab": {
          "base_uri": "https://localhost:8080/"
        },
        "id": "osCTx6wMpnQL",
        "outputId": "95f75fa3-cb79-46fa-82a3-fe253052b9cd"
      },
      "execution_count": null,
      "outputs": [
        {
          "output_type": "stream",
          "name": "stdout",
          "text": [
            "0.9714285714285714\n"
          ]
        }
      ]
    }
  ]
}